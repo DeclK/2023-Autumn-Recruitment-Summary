{
 "cells": [
  {
   "cell_type": "code",
   "execution_count": 8,
   "metadata": {},
   "outputs": [
    {
     "data": {
      "text/plain": [
       "2.0"
      ]
     },
     "execution_count": 8,
     "metadata": {},
     "output_type": "execute_result"
    }
   ],
   "source": [
    "4.1 // 2   "
   ]
  },
  {
   "cell_type": "code",
   "execution_count": 8,
   "metadata": {},
   "outputs": [
    {
     "data": {
      "text/plain": [
       "[0, 0, 1, 1, 0, 0, 1]"
      ]
     },
     "execution_count": 8,
     "metadata": {},
     "output_type": "execute_result"
    }
   ],
   "source": [
    "def solution(l):\n",
    "    check = l[0]\n",
    "    anchor = 1\n",
    "\n",
    "    n = len(l)\n",
    "    for i in range(n):\n",
    "        if l[i] < check:\n",
    "            # swich anchor & i\n",
    "            l[i], l[anchor] = l[anchor], l[i]\n",
    "            anchor += 1\n",
    "    # swich anchor - 1 & check\n",
    "    l[0], l[anchor - 1] = l[anchor - 1], l[0]\n",
    "\n",
    "l= [0, 0,1,1,0,0,1]\n",
    "solution(l)\n",
    "l\n"
   ]
  }
 ],
 "metadata": {
  "kernelspec": {
   "display_name": "Python 3.8.3 ('base')",
   "language": "python",
   "name": "python3"
  },
  "language_info": {
   "codemirror_mode": {
    "name": "ipython",
    "version": 3
   },
   "file_extension": ".py",
   "mimetype": "text/x-python",
   "name": "python",
   "nbconvert_exporter": "python",
   "pygments_lexer": "ipython3",
   "version": "3.8.3"
  },
  "orig_nbformat": 4,
  "vscode": {
   "interpreter": {
    "hash": "230b3ff13fbf17182562d98b6b92d0993293f138d9d821fa36058128ba3119c0"
   }
  }
 },
 "nbformat": 4,
 "nbformat_minor": 2
}
